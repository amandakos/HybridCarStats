{
 "cells": [
  {
   "cell_type": "markdown",
   "id": "f057418a",
   "metadata": {},
   "source": [
    "# Statistical Analysis on Hybrid Cars Dataset"
   ]
  },
  {
   "cell_type": "markdown",
   "id": "b75ff0bf",
   "metadata": {},
   "source": [
    "## Import Packages"
   ]
  },
  {
   "cell_type": "code",
   "execution_count": 1,
   "id": "f14e0de0",
   "metadata": {},
   "outputs": [],
   "source": [
    "import pandas as pd\n",
    "import numpy as np\n",
    "from scipy import stats\n",
    "from scipy.stats import norm"
   ]
  },
  {
   "cell_type": "markdown",
   "id": "d2ba621b",
   "metadata": {},
   "source": [
    "## Import Data"
   ]
  },
  {
   "cell_type": "code",
   "execution_count": 2,
   "id": "b498950f",
   "metadata": {},
   "outputs": [],
   "source": [
    "hybrid = pd.read_excel('hybrid2013.xlsx')"
   ]
  },
  {
   "cell_type": "code",
   "execution_count": 3,
   "id": "90b08d0a",
   "metadata": {},
   "outputs": [
    {
     "data": {
      "text/html": [
       "<div>\n",
       "<style scoped>\n",
       "    .dataframe tbody tr th:only-of-type {\n",
       "        vertical-align: middle;\n",
       "    }\n",
       "\n",
       "    .dataframe tbody tr th {\n",
       "        vertical-align: top;\n",
       "    }\n",
       "\n",
       "    .dataframe thead th {\n",
       "        text-align: right;\n",
       "    }\n",
       "</style>\n",
       "<table border=\"1\" class=\"dataframe\">\n",
       "  <thead>\n",
       "    <tr style=\"text-align: right;\">\n",
       "      <th></th>\n",
       "      <th>carid</th>\n",
       "      <th>vehicle</th>\n",
       "      <th>year</th>\n",
       "      <th>msrp</th>\n",
       "      <th>accelrate</th>\n",
       "      <th>mpg</th>\n",
       "      <th>mpgmpge</th>\n",
       "      <th>carclass</th>\n",
       "      <th>carclass_id</th>\n",
       "    </tr>\n",
       "  </thead>\n",
       "  <tbody>\n",
       "    <tr>\n",
       "      <th>0</th>\n",
       "      <td>111</td>\n",
       "      <td>Prius C</td>\n",
       "      <td>2013</td>\n",
       "      <td>19080</td>\n",
       "      <td>8.70</td>\n",
       "      <td>50</td>\n",
       "      <td>50</td>\n",
       "      <td>C</td>\n",
       "      <td>1</td>\n",
       "    </tr>\n",
       "    <tr>\n",
       "      <th>1</th>\n",
       "      <td>112</td>\n",
       "      <td>Jetta</td>\n",
       "      <td>2013</td>\n",
       "      <td>24995</td>\n",
       "      <td>12.66</td>\n",
       "      <td>45</td>\n",
       "      <td>45</td>\n",
       "      <td>C</td>\n",
       "      <td>1</td>\n",
       "    </tr>\n",
       "    <tr>\n",
       "      <th>2</th>\n",
       "      <td>113</td>\n",
       "      <td>Civic</td>\n",
       "      <td>2013</td>\n",
       "      <td>24360</td>\n",
       "      <td>10.20</td>\n",
       "      <td>44</td>\n",
       "      <td>44</td>\n",
       "      <td>C</td>\n",
       "      <td>1</td>\n",
       "    </tr>\n",
       "    <tr>\n",
       "      <th>3</th>\n",
       "      <td>114</td>\n",
       "      <td>Prius</td>\n",
       "      <td>2013</td>\n",
       "      <td>24200</td>\n",
       "      <td>10.20</td>\n",
       "      <td>50</td>\n",
       "      <td>50</td>\n",
       "      <td>M</td>\n",
       "      <td>3</td>\n",
       "    </tr>\n",
       "    <tr>\n",
       "      <th>4</th>\n",
       "      <td>115</td>\n",
       "      <td>Fusion FWD</td>\n",
       "      <td>2013</td>\n",
       "      <td>27200</td>\n",
       "      <td>11.72</td>\n",
       "      <td>47</td>\n",
       "      <td>47</td>\n",
       "      <td>M</td>\n",
       "      <td>3</td>\n",
       "    </tr>\n",
       "  </tbody>\n",
       "</table>\n",
       "</div>"
      ],
      "text/plain": [
       "   carid     vehicle  year   msrp  accelrate  mpg  mpgmpge carclass  \\\n",
       "0    111     Prius C  2013  19080       8.70   50       50        C   \n",
       "1    112       Jetta  2013  24995      12.66   45       45        C   \n",
       "2    113       Civic  2013  24360      10.20   44       44        C   \n",
       "3    114       Prius  2013  24200      10.20   50       50        M   \n",
       "4    115  Fusion FWD  2013  27200      11.72   47       47        M   \n",
       "\n",
       "   carclass_id  \n",
       "0            1  \n",
       "1            1  \n",
       "2            1  \n",
       "3            3  \n",
       "4            3  "
      ]
     },
     "execution_count": 3,
     "metadata": {},
     "output_type": "execute_result"
    }
   ],
   "source": [
    "hybrid.head()"
   ]
  },
  {
   "cell_type": "markdown",
   "id": "ad4bc2cb",
   "metadata": {},
   "source": [
    "## Here, the test is to assess if a $25,000 hybrid vehicle in 2013 is different from the mean msrp."
   ]
  },
  {
   "cell_type": "markdown",
   "id": "41c806ba",
   "metadata": {},
   "source": [
    "## No data wrangling required at present"
   ]
  },
  {
   "cell_type": "markdown",
   "id": "96a1f7cf",
   "metadata": {},
   "source": [
    "## Test Assumptions - Normality"
   ]
  },
  {
   "cell_type": "code",
   "execution_count": 5,
   "id": "8b6b3023",
   "metadata": {},
   "outputs": [
    {
     "data": {
      "text/plain": [
       "<Axes: >"
      ]
     },
     "execution_count": 5,
     "metadata": {},
     "output_type": "execute_result"
    },
    {
     "data": {
      "image/png": "[encoded data removed]",
      "text/plain": [
       "<Figure size 640x480 with 1 Axes>"
      ]
     },
     "metadata": {},
     "output_type": "display_data"
    }
   ],
   "source": [
    "hybrid['msrp'].hist()"
   ]
  },
  {
   "cell_type": "markdown",
   "id": "c87161aa",
   "metadata": {},
   "source": [
    "## NOT really normally distributed, but continuing for learning purposes."
   ]
  },
  {
   "cell_type": "markdown",
   "id": "b00827a9",
   "metadata": {},
   "source": [
    "## Run the Analysis"
   ]
  },
  {
   "cell_type": "code",
   "execution_count": 6,
   "id": "803b46e9",
   "metadata": {},
   "outputs": [
    {
     "data": {
      "text/plain": [
       "TtestResult(statistic=6.003733172775179, pvalue=3.9231807518835515e-07, df=42)"
      ]
     },
     "execution_count": 6,
     "metadata": {},
     "output_type": "execute_result"
    }
   ],
   "source": [
    "stats.ttest_1samp(hybrid['msrp'], 25000)"
   ]
  },
  {
   "cell_type": "markdown",
   "id": "655bf516",
   "metadata": {},
   "source": [
    "### Look like the very small p-value indicates a statistically significant difference from the mean."
   ]
  },
  {
   "cell_type": "code",
   "execution_count": 8,
   "id": "6fc1a3a9",
   "metadata": {},
   "outputs": [
    {
     "data": {
      "text/plain": [
       "42943.48837209302"
      ]
     },
     "execution_count": 8,
     "metadata": {},
     "output_type": "execute_result"
    }
   ],
   "source": [
    "hybrid.msrp.mean()"
   ]
  },
  {
   "cell_type": "markdown",
   "id": "41c965a6",
   "metadata": {},
   "source": [
    "### With a mean msrp of $42,943, looks like a $25,000 vehicle is a good deal."
   ]
  },
  {
   "cell_type": "markdown",
   "id": "64015cad",
   "metadata": {},
   "source": [
    "## Next, looking at the mpg ratings, determining how a 40mpg compares to the mean."
   ]
  },
  {
   "cell_type": "markdown",
   "id": "1fe25b91",
   "metadata": {},
   "source": [
    "### First Testing Assumptions"
   ]
  },
  {
   "cell_type": "code",
   "execution_count": 10,
   "id": "745966c5",
   "metadata": {},
   "outputs": [
    {
     "data": {
      "text/plain": [
       "<Axes: >"
      ]
     },
     "execution_count": 10,
     "metadata": {},
     "output_type": "execute_result"
    },
    {
     "data": {
      "image/png": "[encoded data removed]",
      "text/plain": [
       "<Figure size 640x480 with 1 Axes>"
      ]
     },
     "metadata": {},
     "output_type": "display_data"
    }
   ],
   "source": [
    "hybrid['mpg'].hist()"
   ]
  },
  {
   "cell_type": "markdown",
   "id": "fd7c9bbd",
   "metadata": {},
   "source": [
    "### Again, not normally distributed, but continuing for the practice."
   ]
  },
  {
   "cell_type": "code",
   "execution_count": 12,
   "id": "8e0962ad",
   "metadata": {},
   "outputs": [
    {
     "data": {
      "text/plain": [
       "TtestResult(statistic=-4.427320491687408, pvalue=6.67005084670698e-05, df=42)"
      ]
     },
     "execution_count": 12,
     "metadata": {},
     "output_type": "execute_result"
    }
   ],
   "source": [
    "stats.ttest_1samp(hybrid['mpg'], 40)"
   ]
  },
  {
   "cell_type": "markdown",
   "id": "2994e891",
   "metadata": {},
   "source": [
    "### The very small p-value would indicated a statistically significant difference."
   ]
  },
  {
   "cell_type": "code",
   "execution_count": 13,
   "id": "0c415736",
   "metadata": {},
   "outputs": [
    {
     "data": {
      "text/plain": [
       "33.48837209302326"
      ]
     },
     "execution_count": 13,
     "metadata": {},
     "output_type": "execute_result"
    }
   ],
   "source": [
    "hybrid.mpg.mean()"
   ]
  },
  {
   "cell_type": "markdown",
   "id": "75d919a0",
   "metadata": {},
   "source": [
    "### With a mean mpg of 33.5, it looks like 40mpg would be a good bit more fuel-effiient than the mean hybrid car in 2013."
   ]
  },
  {
   "cell_type": "markdown",
   "id": "e663c915",
   "metadata": {},
   "source": [
    "## Independent t-test (Here comparing a categorical IV with a continuous DV.)"
   ]
  },
  {
   "cell_type": "markdown",
   "id": "8c6cc299",
   "metadata": {},
   "source": [
    "## import packages"
   ]
  },
  {
   "cell_type": "markdown",
   "id": "da1c35f1",
   "metadata": {},
   "source": [
    "from scipy.stats import ttest_ind"
   ]
  },
  {
   "cell_type": "markdown",
   "id": "fce4fb38",
   "metadata": {},
   "source": [
    "## Test Assumptions - normality, first for compact then mid-size cars"
   ]
  },
  {
   "cell_type": "code",
   "execution_count": 16,
   "id": "e6ad32bf",
   "metadata": {},
   "outputs": [
    {
     "data": {
      "text/plain": [
       "<Axes: >"
      ]
     },
     "execution_count": 16,
     "metadata": {},
     "output_type": "execute_result"
    },
    {
     "data": {
      "image/png": "[encoded data removed]",
      "text/plain": [
       "<Figure size 640x480 with 1 Axes>"
      ]
     },
     "metadata": {},
     "output_type": "display_data"
    }
   ],
   "source": [
    "hybrid.mpg[hybrid.carclass == 'C'].hist()"
   ]
  },
  {
   "cell_type": "code",
   "execution_count": 17,
   "id": "728c5258",
   "metadata": {},
   "outputs": [
    {
     "data": {
      "text/plain": [
       "<Axes: >"
      ]
     },
     "execution_count": 17,
     "metadata": {},
     "output_type": "execute_result"
    },
    {
     "data": {
      "image/png": "[encoded data removed]",
      "text/plain": [
       "<Figure size 640x480 with 1 Axes>"
      ]
     },
     "metadata": {},
     "output_type": "display_data"
    }
   ],
   "source": [
    "hybrid.mpg[hybrid.carclass == 'M'].hist()"
   ]
  },
  {
   "cell_type": "markdown",
   "id": "1a912eb4",
   "metadata": {},
   "source": [
    "## This is not exactly a nice bell-shaped curve sort of dataset, but pressing on."
   ]
  },
  {
   "cell_type": "markdown",
   "id": "4f99de71",
   "metadata": {},
   "source": [
    "## Run the Analysis"
   ]
  },
  {
   "cell_type": "code",
   "execution_count": 20,
   "id": "7bfb7eaa",
   "metadata": {},
   "outputs": [
    {
     "data": {
      "text/plain": [
       "Ttest_indResult(statistic=1.0751886097093057, pvalue=0.29216712457079796)"
      ]
     },
     "execution_count": 20,
     "metadata": {},
     "output_type": "execute_result"
    }
   ],
   "source": [
    "stats.ttest_ind(hybrid.mpg[hybrid.carclass == 'C'], hybrid.mpg[hybrid.carclass == 'M'])"
   ]
  },
  {
   "cell_type": "markdown",
   "id": "768e34a8",
   "metadata": {},
   "source": [
    "## With a p-value of 0.29 it looks like there really is not a statistically significant difference in mpg between the two classes of cars."
   ]
  },
  {
   "cell_type": "markdown",
   "id": "2971ae80",
   "metadata": {},
   "source": [
    "### Let's take a look at the means"
   ]
  },
  {
   "cell_type": "code",
   "execution_count": 21,
   "id": "3ec6831a",
   "metadata": {},
   "outputs": [
    {
     "data": {
      "text/plain": [
       "40.75"
      ]
     },
     "execution_count": 21,
     "metadata": {},
     "output_type": "execute_result"
    }
   ],
   "source": [
    "hybrid.mpg[hybrid.carclass == 'C'].mean()"
   ]
  },
  {
   "cell_type": "code",
   "execution_count": 22,
   "id": "fb234ec2",
   "metadata": {},
   "outputs": [
    {
     "data": {
      "text/plain": [
       "37.4"
      ]
     },
     "execution_count": 22,
     "metadata": {},
     "output_type": "execute_result"
    }
   ],
   "source": [
    "hybrid.mpg[hybrid.carclass == 'M'].mean()"
   ]
  },
  {
   "cell_type": "markdown",
   "id": "f40784ef",
   "metadata": {},
   "source": [
    "### This teaches that looks can be deceiving. While it would be expected that 40.75 and 37.4 would be significantly different, our statistics show that they are not as different as might be expected."
   ]
  },
  {
   "cell_type": "markdown",
   "id": "562dd874",
   "metadata": {},
   "source": [
    "## Next, running another Independent t-test to see the difference in mpg between compact and large cars."
   ]
  },
  {
   "cell_type": "markdown",
   "id": "76c6dc50",
   "metadata": {},
   "source": [
    "## Test Assumptions - normality (Here only running large because small is above.)"
   ]
  },
  {
   "cell_type": "code",
   "execution_count": 24,
   "id": "0686dee2",
   "metadata": {},
   "outputs": [
    {
     "data": {
      "text/plain": [
       "<Axes: >"
      ]
     },
     "execution_count": 24,
     "metadata": {},
     "output_type": "execute_result"
    },
    {
     "data": {
      "image/png": "[encoded data removed]",
      "text/plain": [
       "<Figure size 640x480 with 1 Axes>"
      ]
     },
     "metadata": {},
     "output_type": "display_data"
    }
   ],
   "source": [
    "hybrid.mpg[hybrid.carclass == 'L'].hist()"
   ]
  },
  {
   "cell_type": "markdown",
   "id": "3996b560",
   "metadata": {},
   "source": [
    "### Fits the pattern. lol"
   ]
  },
  {
   "cell_type": "markdown",
   "id": "d757ef3b",
   "metadata": {},
   "source": [
    "### Running the Analysis"
   ]
  },
  {
   "cell_type": "code",
   "execution_count": 25,
   "id": "ca9c3b92",
   "metadata": {},
   "outputs": [
    {
     "data": {
      "text/plain": [
       "Ttest_indResult(statistic=2.598820461640718, pvalue=0.026545168887970098)"
      ]
     },
     "execution_count": 25,
     "metadata": {},
     "output_type": "execute_result"
    }
   ],
   "source": [
    "stats.ttest_ind(hybrid.mpg[hybrid.carclass == 'C'], hybrid.mpg[hybrid.carclass == 'L'])"
   ]
  },
  {
   "cell_type": "markdown",
   "id": "07cf645d",
   "metadata": {},
   "source": [
    "### Here there is a statistically significant difference in mpg between classes."
   ]
  },
  {
   "cell_type": "code",
   "execution_count": 26,
   "id": "966c6836",
   "metadata": {},
   "outputs": [
    {
     "data": {
      "text/plain": [
       "28.5"
      ]
     },
     "execution_count": 26,
     "metadata": {},
     "output_type": "execute_result"
    }
   ],
   "source": [
    "hybrid.mpg[hybrid.carclass == 'L'].mean()"
   ]
  },
  {
   "cell_type": "markdown",
   "id": "e99f7245",
   "metadata": {},
   "source": [
    "### Taking the mpg mean for compact cars from above, we see that 40.75mpg for compact cars is quite a bit more than 28.5mpg for large cars."
   ]
  },
  {
   "cell_type": "markdown",
   "id": "1a21c8b5",
   "metadata": {},
   "source": [
    "## Now, data from 2012 and 2013 will be pulled in to conduct a Dependent t-test"
   ]
  },
  {
   "cell_type": "code",
   "execution_count": 28,
   "id": "f7b1a484",
   "metadata": {},
   "outputs": [],
   "source": [
    "hybrid2 = pd.read_excel('hybrid2012-13.xlsx')"
   ]
  },
  {
   "cell_type": "code",
   "execution_count": 29,
   "id": "dd6ba398",
   "metadata": {},
   "outputs": [
    {
     "data": {
      "text/html": [
       "<div>\n",
       "<style scoped>\n",
       "    .dataframe tbody tr th:only-of-type {\n",
       "        vertical-align: middle;\n",
       "    }\n",
       "\n",
       "    .dataframe tbody tr th {\n",
       "        vertical-align: top;\n",
       "    }\n",
       "\n",
       "    .dataframe thead th {\n",
       "        text-align: right;\n",
       "    }\n",
       "</style>\n",
       "<table border=\"1\" class=\"dataframe\">\n",
       "  <thead>\n",
       "    <tr style=\"text-align: right;\">\n",
       "      <th></th>\n",
       "      <th>vehicle</th>\n",
       "      <th>msrp2012</th>\n",
       "      <th>accelrate2012</th>\n",
       "      <th>mpg2012</th>\n",
       "      <th>mpgmpge2012</th>\n",
       "      <th>carclass2012</th>\n",
       "      <th>carclass_id2012</th>\n",
       "      <th>msrp2013</th>\n",
       "      <th>accelrate2013</th>\n",
       "      <th>mpg2013</th>\n",
       "      <th>mpgmpge2013</th>\n",
       "      <th>carclass2013</th>\n",
       "      <th>carclass_id2013</th>\n",
       "    </tr>\n",
       "  </thead>\n",
       "  <tbody>\n",
       "    <tr>\n",
       "      <th>0</th>\n",
       "      <td>ActiveHybrid 3</td>\n",
       "      <td>19006.62</td>\n",
       "      <td>9.35</td>\n",
       "      <td>50</td>\n",
       "      <td>50</td>\n",
       "      <td>C</td>\n",
       "      <td>1</td>\n",
       "      <td>19080</td>\n",
       "      <td>8.70</td>\n",
       "      <td>50</td>\n",
       "      <td>50</td>\n",
       "      <td>C</td>\n",
       "      <td>1</td>\n",
       "    </tr>\n",
       "    <tr>\n",
       "      <th>1</th>\n",
       "      <td>ActiveHybrid 5</td>\n",
       "      <td>32095.61</td>\n",
       "      <td>8.82</td>\n",
       "      <td>50</td>\n",
       "      <td>95</td>\n",
       "      <td>M</td>\n",
       "      <td>3</td>\n",
       "      <td>24995</td>\n",
       "      <td>12.66</td>\n",
       "      <td>45</td>\n",
       "      <td>45</td>\n",
       "      <td>C</td>\n",
       "      <td>1</td>\n",
       "    </tr>\n",
       "    <tr>\n",
       "      <th>2</th>\n",
       "      <td>Ampera</td>\n",
       "      <td>31739.55</td>\n",
       "      <td>11.11</td>\n",
       "      <td>37</td>\n",
       "      <td>98</td>\n",
       "      <td>C</td>\n",
       "      <td>1</td>\n",
       "      <td>24200</td>\n",
       "      <td>10.20</td>\n",
       "      <td>50</td>\n",
       "      <td>50</td>\n",
       "      <td>M</td>\n",
       "      <td>3</td>\n",
       "    </tr>\n",
       "    <tr>\n",
       "      <th>3</th>\n",
       "      <td>Camry LE</td>\n",
       "      <td>62180.23</td>\n",
       "      <td>16.67</td>\n",
       "      <td>26</td>\n",
       "      <td>26</td>\n",
       "      <td>M</td>\n",
       "      <td>3</td>\n",
       "      <td>18600</td>\n",
       "      <td>11.76</td>\n",
       "      <td>42</td>\n",
       "      <td>42</td>\n",
       "      <td>C</td>\n",
       "      <td>1</td>\n",
       "    </tr>\n",
       "    <tr>\n",
       "      <th>4</th>\n",
       "      <td>Chevrolet Volt</td>\n",
       "      <td>59126.14</td>\n",
       "      <td>16.95</td>\n",
       "      <td>31</td>\n",
       "      <td>31</td>\n",
       "      <td>M</td>\n",
       "      <td>3</td>\n",
       "      <td>69850</td>\n",
       "      <td>16.39</td>\n",
       "      <td>21</td>\n",
       "      <td>21</td>\n",
       "      <td>SUV</td>\n",
       "      <td>6</td>\n",
       "    </tr>\n",
       "  </tbody>\n",
       "</table>\n",
       "</div>"
      ],
      "text/plain": [
       "          vehicle  msrp2012  accelrate2012  mpg2012  mpgmpge2012 carclass2012  \\\n",
       "0  ActiveHybrid 3  19006.62           9.35       50           50            C   \n",
       "1  ActiveHybrid 5  32095.61           8.82       50           95            M   \n",
       "2          Ampera  31739.55          11.11       37           98            C   \n",
       "3        Camry LE  62180.23          16.67       26           26            M   \n",
       "4  Chevrolet Volt  59126.14          16.95       31           31            M   \n",
       "\n",
       "   carclass_id2012  msrp2013  accelrate2013  mpg2013  mpgmpge2013  \\\n",
       "0                1     19080           8.70       50           50   \n",
       "1                3     24995          12.66       45           45   \n",
       "2                1     24200          10.20       50           50   \n",
       "3                3     18600          11.76       42           42   \n",
       "4                3     69850          16.39       21           21   \n",
       "\n",
       "  carclass2013  carclass_id2013  \n",
       "0            C                1  \n",
       "1            C                1  \n",
       "2            M                3  \n",
       "3            C                1  \n",
       "4          SUV                6  "
      ]
     },
     "execution_count": 29,
     "metadata": {},
     "output_type": "execute_result"
    }
   ],
   "source": [
    "hybrid2.head()"
   ]
  },
  {
   "cell_type": "markdown",
   "id": "0b3d0a09",
   "metadata": {},
   "source": [
    "### Now, to compare msrp data from 2012 and 2013, we will test assumptions on the two years."
   ]
  },
  {
   "cell_type": "markdown",
   "id": "829ebe26",
   "metadata": {},
   "source": [
    "## Test Assumptions - Normality"
   ]
  },
  {
   "cell_type": "code",
   "execution_count": 30,
   "id": "b6cb71b2",
   "metadata": {},
   "outputs": [
    {
     "data": {
      "text/plain": [
       "<Axes: >"
      ]
     },
     "execution_count": 30,
     "metadata": {},
     "output_type": "execute_result"
    },
    {
     "data": {
      "image/png": "[encoded data removed]",
      "text/plain": [
       "<Figure size 640x480 with 1 Axes>"
      ]
     },
     "metadata": {},
     "output_type": "display_data"
    }
   ],
   "source": [
    "hybrid2['msrp2012'].hist()"
   ]
  },
  {
   "cell_type": "code",
   "execution_count": 31,
   "id": "f40c8be9",
   "metadata": {},
   "outputs": [
    {
     "data": {
      "text/plain": [
       "<Axes: >"
      ]
     },
     "execution_count": 31,
     "metadata": {},
     "output_type": "execute_result"
    },
    {
     "data": {
      "image/png": "[encoded data removed]",
      "text/plain": [
       "<Figure size 640x480 with 1 Axes>"
      ]
     },
     "metadata": {},
     "output_type": "display_data"
    }
   ],
   "source": [
    "hybrid2['msrp2013'].hist()"
   ]
  },
  {
   "cell_type": "markdown",
   "id": "5d00c5db",
   "metadata": {},
   "source": [
    "## As now expected, not really normally distributed, but proceeding."
   ]
  },
  {
   "cell_type": "markdown",
   "id": "7b681aac",
   "metadata": {},
   "source": [
    "## Run the Analysis"
   ]
  },
  {
   "cell_type": "code",
   "execution_count": 32,
   "id": "4da551b6",
   "metadata": {},
   "outputs": [
    {
     "data": {
      "text/plain": [
       "TtestResult(statistic=0.2374965077759743, pvalue=0.8162780348473798, df=12)"
      ]
     },
     "execution_count": 32,
     "metadata": {},
     "output_type": "execute_result"
    }
   ],
   "source": [
    "stats.ttest_rel(hybrid2['msrp2012'], hybrid2['msrp2013'])"
   ]
  },
  {
   "cell_type": "markdown",
   "id": "42476aa4",
   "metadata": {},
   "source": [
    "### With a p-value of 0.82, looks like no significant change in price between the 2 model years."
   ]
  },
  {
   "cell_type": "markdown",
   "id": "6fcca2f1",
   "metadata": {},
   "source": [
    "## Next, looking at mpg data between the 2 model years"
   ]
  },
  {
   "cell_type": "markdown",
   "id": "04d0727d",
   "metadata": {},
   "source": [
    "## Test Assumptions"
   ]
  },
  {
   "cell_type": "code",
   "execution_count": 33,
   "id": "28b2d181",
   "metadata": {},
   "outputs": [
    {
     "data": {
      "text/plain": [
       "<Axes: >"
      ]
     },
     "execution_count": 33,
     "metadata": {},
     "output_type": "execute_result"
    },
    {
     "data": {
      "image/png": "[encoded data removed]",
      "text/plain": [
       "<Figure size 640x480 with 1 Axes>"
      ]
     },
     "metadata": {},
     "output_type": "display_data"
    }
   ],
   "source": [
    "hybrid2['mpg2012'].hist()"
   ]
  },
  {
   "cell_type": "code",
   "execution_count": 34,
   "id": "7b857288",
   "metadata": {},
   "outputs": [
    {
     "data": {
      "text/plain": [
       "<Axes: >"
      ]
     },
     "execution_count": 34,
     "metadata": {},
     "output_type": "execute_result"
    },
    {
     "data": {
      "image/png": "[encoded data removed]",
      "text/plain": [
       "<Figure size 640x480 with 1 Axes>"
      ]
     },
     "metadata": {},
     "output_type": "display_data"
    }
   ],
   "source": [
    "hybrid2['mpg2013'].hist()"
   ]
  },
  {
   "cell_type": "markdown",
   "id": "0bba5954",
   "metadata": {},
   "source": [
    "### Here is the typical non-normality that's been seen in the data. Carry on."
   ]
  },
  {
   "cell_type": "markdown",
   "id": "fd667e49",
   "metadata": {},
   "source": [
    "## Running the Analysis"
   ]
  },
  {
   "cell_type": "code",
   "execution_count": 35,
   "id": "f448dfb8",
   "metadata": {},
   "outputs": [
    {
     "data": {
      "text/plain": [
       "TtestResult(statistic=0.14466598084438315, pvalue=0.8873759030512349, df=12)"
      ]
     },
     "execution_count": 35,
     "metadata": {},
     "output_type": "execute_result"
    }
   ],
   "source": [
    "stats.ttest_rel(hybrid2['mpg2012'], hybrid2['mpg2013'])"
   ]
  },
  {
   "cell_type": "markdown",
   "id": "866ac54f",
   "metadata": {},
   "source": [
    "### With a p-value of 0.89, there is no statistically significant difference in mpg between the 2 model years."
   ]
  },
  {
   "cell_type": "code",
   "execution_count": null,
   "id": "e9d67a08",
   "metadata": {},
   "outputs": [],
   "source": []
  }
 ],
 "metadata": {
  "kernelspec": {
   "display_name": "Python 3 (ipykernel)",
   "language": "python",
   "name": "python3"
  },
  "language_info": {
   "codemirror_mode": {
    "name": "ipython",
    "version": 3
   },
   "file_extension": ".py",
   "mimetype": "text/x-python",
   "name": "python",
   "nbconvert_exporter": "python",
   "pygments_lexer": "ipython3",
   "version": "3.10.9"
  }
 },
 "nbformat": 4,
 "nbformat_minor": 5
}
